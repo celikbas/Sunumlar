{
 "cells": [
  {
   "cell_type": "markdown",
   "metadata": {},
   "source": [
    "# Pandemi Sürecinde Bilimi İmece İşbirliği ile Paylaşmak\n",
    "\n",
    "Bu belgede yer alan bilgiler ANKOS Akademi tarafından düzenlenen Webinar'da Zeki Çelikbaş tarafından sunulmuştur.\n",
    "\n",
    "Sunumun video kaydına aşağıdaki adresden ulaşılabilir:\n",
    "\n",
    "https://www.youtube.com/watch?v=n4RR4LK-7jE\n",
    "\n",
    "Webinarın konusu genel olarak pandemi sürecinde kütüphanelerin işbirliği çalışmaları ile ilgili çözümleri ortaya çıkarmak ve özelde ise ANKOS İşbirliği Grubu tarafından kullanıma alınan 'Imece Belge Sağlama' isimli modülü tanıtmaktır. "
   ]
  },
  {
   "cell_type": "markdown",
   "metadata": {},
   "source": [
    "## Kütüphaneler için Felaket El-kitabı (ALA yayını)\n",
    "\n",
    "**Library as Safe Haven:** Disaster Planning, Response, and Recovery; A How-To-Do-It Manual for Librarians\" \n",
    "(e-book: https://www.alastore.ala.org/sites/default/files/LibraryAsSafeHavenPDF.pdf)\n",
    "\n",
    "Kitapdat bazı bölümler:\n",
    "\n",
    "**Kütüphanenin Krizdeki Rolü**\n",
    "```\n",
    "\"Halk kütüphaneleri toplum için doğal bir cennettir. Kriz dönemlerinde, kütüphanenin rolü sadece geniş bir yelpazede ihtiyaç duyulan kaynak ve hizmetlerin sağlanması için değil; aynı zamanda sakin, beraberlik ve topluluk duygusu sunmakla da ilgilidir.\" (Narratives from the Storm, 2008).\n",
    "```\n",
    "Kaynak: https://txla.org/wp-content/uploads/2018/09/TLJ-Winter-2008.pdf\n",
    "\n",
    "Elbette bu kitapda göz önüne alınan felaket durumları ilgili ülkenin konumuna bağlı olarak kasırgalar ve depremler vb. gibi halkı içerde tutmaya yönelik tedbirleri içeriyordu. Örneğin aşağıdaki pasaj yaşadıklarımıza ne kadar zıt değil mi?\n",
    "\n",
    "**Krizde Kütüphanede Bulunması Gerekenler**\n",
    "- Hazır konserve etler\n",
    "- Meyve ve sebze\n",
    "- Protein veya meyve çubukları\n",
    "- Kuru tahıl veya granola\n",
    "- Fıstık ezmesi\n",
    "- Kurutulmuş meyve\n",
    "- Fındık\n",
    "- Kraker\n",
    "- Konserve meyve suları\n",
    "- pastörize süt\n",
    "- Yüksek enerjili gıdalar\n",
    "\n",
    "Oysa bizim yaşadığımız felakette kullanıcılarımızı kütüphanenin dışına aldık. Bu kitapda bir salgın hastalıkda kütüphanelerde planlama ile ilgili olarak aşağıdaki bölüm bulunuyor.\n",
    "\n",
    "### Salgın Planlaması: Salgın Aşamaları ve Kütüphane Prosedürleri\n",
    "\n",
    "| Dönem | Seviye | Tanım | İşlem |\n",
    "| :--- | :--- | :--- | :--- |\n",
    "| **Pandemi Öncesi** | 1 | Virüs belirdi | İzle |\n",
    "| **Pandemi alarmı** | 2 | Virüs yolda! | İzlemeye devam et |\n",
    "|  | 3 | Virüs Dünyaya yayıldı | Azaltılmış iş saatleri ile çalışma. Sosyal mesafe. Evden çalışmaya hazırlık. Gerekli malzemelerin temini |\n",
    "| **Pandemi** | 4 | WHO küresel pandemi ilan etti | Çalışma saatleri azaltılacak. Servis masaları kapatılacak. Persolen politikaları gözden geçirilecek |\n",
    "| | 5 | Virüs artık topluma yayılmıştır | Tesis dışından sınırlı kullanıcı hizmetleri verebilirler. Web sayfasından gerekli bilgiler yayınlanmalıdır. |"
   ]
  },
  {
   "cell_type": "markdown",
   "metadata": {},
   "source": [
    "### Dünya'da ve Türkiye'de Yaşanan Covid-19 Süreçi\n",
    "\n",
    "|Yıl| Tarih | Gündem |\n",
    "|:---|:---|:---|\n",
    "| 2019 | 1 Aralık | Virüs Çin'de ortaya çıktı | \n",
    "| 2020 | 9 Ocak  | Çin'de ilk ölüm. Türkiye: Elazığ Depremi |\n",
    "|      | 1 Şubat | Çin dışında ilk ölüm. Türkiye: Toplantılalar |\n",
    "|      | 09 Mart 10:30 |  [KUTUP-L: 26205] ANKOSLink 2020 ve Koronovirüsü Hakkında: ANKOS Halkla İlişkiler |\n",
    "|      | 11 Mart | WHO Küresel salgın (Pandemi) ilan etti |\n",
    "|      | 11 Mart | Virüs Türkiye'de görüldü |\n",
    "|      |  | 26. Kütüphane haftası iptal |\n",
    "|      |  | 20. ANKOSLink iptal |\n",
    "|      |  | 8. ANKOS APDP iptal |\n",
    "|      | 20 Mart 17:51 | [KUTUP-L: 26251] Konavirüs Salgını Sürecinde Eğitime ve Sosyal Hayata Destek Sağlayan Firmalar/Kaynaklar: Kamil Yeşiltaş (https://library.ku.edu.tr/evdeyken-eglenebileceginiz-kaynaklar/) |\n",
    "|      | 21 Mar  14:19 | [KUTUP-L: 26253] Koronovirüs (COVID-19) Akademik Bilgi Bankası: Yaşar Göçer (https://marmara.libguides.com/c.php?g=678819) |\n",
    "|      | 30 Mart 2020   | ANKOS Webinarları: \"Korona Günlerinde Türk Kütüphaneciliği Paneli\" (Moderatör: Emre Akbayrak) |\n",
    "|      | 21 Nisan 9:36 AM | docdel-l@iflalists.org New Resource Sharing Requesting Service to Support Libraries in COVID-19 Emergency: Peter Colins |\n",
    "|      | 24 Nisan 16:15 | [KUTUP-L: 26401] Olağanüstü COVID-19 Koşullarında Kütüphaneler için Yeni Kaynak Paylaşım Hizmeti: Ertuğrul Çimen |\n",
    "|      | 29 Nisan 11:35 | [KUTUP-L: 26416] ANKOS Imece Belge Sağlama : Zeki Çelikbaş |\n"
   ]
  },
  {
   "cell_type": "markdown",
   "metadata": {},
   "source": [
    "## Kütüphanelerin Tekrar Açılması Üzerine Yapılan Çalışmalar\n",
    "\n",
    "| Kurum | Plan | Bağlantı |\n",
    "|:---|:---|:---|\n",
    "| New Mexico State Library (NMSL) | The draft plan | https://drive.google.com/file/d/1JS-s8xKVUV2yKjhMFZrNb4S5aQCLdh8C/view |\n",
    "| Institute of Museum and Library Services | Mitigating COVID-19 When Managing Paper-Based, Circulating, and Other Types of Collections | https://www.imls.gov/webinars/mitigating-covid-19-when-managing-paper-based-circulating-and-other-types-collections |\n",
    "| New Jersey State Library | COVID-19 Pandemic Resources and Plans for Library Reopening | https://www.njstatelib.org/covid-19-pandemic-resources-and-plans-for-library-reopening/ |"
   ]
  },
  {
   "cell_type": "markdown",
   "metadata": {},
   "source": [
    "### Önemli Kurumlar ve Covid-19 Çalışmaları\n",
    "\n",
    "| Kurum | Başlık | Bağlantı |\n",
    "|:---|:---|:---|\n",
    "| IFLA | COVID-19 and the Global Library Field | https://www.ifla.org/covid-19-and-libraries |\n",
    "| OCLC | COVID-19—We’re in this together | https://www.oclc.org/en/covid-19.html + e-book  |\n",
    "| ALA | Pandemic Preparedness | http://www.ala.org/tools/atoz/pandemic-preparedness |\n",
    "| ANKOS | Koronavirüs COVID-19 Ücretsiz İçerikler | https://ankos.org.tr/tr/koronoavirus-covid-19-ucretsiz-icerikler/ |\n",
    "\n",
    "##### OCLC Profil Değişikliği\n",
    "\n",
    "- ACOV -- Libraries supplying electronic documents/articles during the COVID-19 crisis. This is a new Profile Group.\n",
    "- BCOV -- Libraries supplying electronic books during the COVID-19 crisis. This is a new Profile Group.\n",
    "- EBOK -- Libraries supplying full ebooks\n",
    "- LONG -- Libraries with long due dates\n",
    "- LLLL -- LVIS Libraries with long due dates"
   ]
  },
  {
   "cell_type": "markdown",
   "metadata": {},
   "source": [
    "## IFLA'nın Covid-19 Sürecinde Kaynak Paylaşımı İçin Oluşturduğu Sistem:\n",
    "\n",
    "**IFLA Document Delivery and Resource Sharing (DDRS) Standing Committee**\n",
    "\n",
    "#### Resource Sharing in the Times of COVID-19 (acronym: RSCVD)\n",
    "\n",
    "- **Link to Request Service:** http://rscvd.org/\n",
    "- **Link to FAQ:** https://rscvd.org/faq"
   ]
  },
  {
   "cell_type": "markdown",
   "metadata": {},
   "source": [
    "## ANKOS KİTS ve KİTS Yardım Sistemi\n",
    "\n",
    "http://kits.ankos.gen.tr/\n"
   ]
  },
  {
   "cell_type": "markdown",
   "metadata": {},
   "source": [
    "## ImeceBS\n",
    "\n",
    "Corona virüs salgını boyunca birçok kütüphane fiziksel alanlarına erişimi kısıtlamıştır. Hangi kütüphanenin açık hangisinin kapalı olduğunu bilemediğimiz bu aşamada, isteklerin bir havuzda toplanması ve uygun olan kütüphanelerin gönüllü olarak bu istekleri çevrimiçi olarak karşılaması düşüncesi doğmuştur. Işte ImeceBS bu düşüncenin hayata geçirilmiş halidir.\n",
    "\n",
    "Aşağıda bu düşüncenin kavramsal olarak ifadesini göreceksiniz:\n",
    "\n",
    "\"Corona virüsü nedeniyle bir kısım kütüphaneler kapalı bir kısmı da açık olmasına rağmen ILL veya Doküman Sağlama hizmeti vermemekte. KİTS'te hangi kurumların açık olduğunu bilmediğimiz için, bir kurum seçmek yerine sadece PDF (makale ve kitap bölümü) sağlayabileceğimiz ortak bir istek kutusu olsa açık olan kurumlardan  (istenen makaleye veya kitap bölümüne sahip) herhangi biri karşılasa. KİTS'e bu şekilde bir eklenti yapmak mümkün müdür?  bir nevi RapidILL gibi.\"\n",
    "\n",
    "Ben: Peki bunu kim kullanır. İnsanlar kendilerine yapılmayan istekleri cevaplarlar mı?\n",
    "\n",
    "Bahadır: Ben yaparım!\n",
    "\n",
    "\n",
    "## ImeceBS Teknik Altyapısı\n",
    "\n",
    "- Jquery (JS)\n",
    "- DataTables  (JS)\n",
    "- AJAX (JS ve PHP)\n",
    "- Bootstrap (CSS)\n",
    "+\n",
    "\n",
    "KİTS entegre olarak çalımaktadır"
   ]
  },
  {
   "cell_type": "markdown",
   "metadata": {},
   "source": [
    "## SÜREÇ ile ilgili Olarak KİTS ve ImeceBS İSTATİSTİKLERİ"
   ]
  },
  {
   "cell_type": "code",
   "execution_count": 1,
   "metadata": {},
   "outputs": [],
   "source": [
    "import pandas as pd\n",
    "import sqlalchemy\n",
    "import matplotlib.pyplot as plt\n",
    "\n",
    "engine = sqlalchemy.create_engine('mysql+mysqlconnector://root@localhost/kits_kits')"
   ]
  },
  {
   "cell_type": "markdown",
   "metadata": {},
   "source": [
    "### Makale İstek Sayıları\n",
    "\n",
    "Aşağıdaki istatistikde makale istek sayılarının hastalığın Türkiye'de görülmesi ile birlikte dramatik olarak nasıl düştüğünü göstermektedir. "
   ]
  },
  {
   "cell_type": "code",
   "execution_count": 2,
   "metadata": {},
   "outputs": [
    {
     "data": {
      "text/html": [
       "<div>\n",
       "<style scoped>\n",
       "    .dataframe tbody tr th:only-of-type {\n",
       "        vertical-align: middle;\n",
       "    }\n",
       "\n",
       "    .dataframe tbody tr th {\n",
       "        vertical-align: top;\n",
       "    }\n",
       "\n",
       "    .dataframe thead th {\n",
       "        text-align: right;\n",
       "    }\n",
       "</style>\n",
       "<table border=\"1\" class=\"dataframe\">\n",
       "  <thead>\n",
       "    <tr style=\"text-align: right;\">\n",
       "      <th></th>\n",
       "      <th>Tarih</th>\n",
       "      <th>Istek</th>\n",
       "    </tr>\n",
       "  </thead>\n",
       "  <tbody>\n",
       "    <tr>\n",
       "      <th>0</th>\n",
       "      <td>October</td>\n",
       "      <td>191</td>\n",
       "    </tr>\n",
       "    <tr>\n",
       "      <th>1</th>\n",
       "      <td>November</td>\n",
       "      <td>174</td>\n",
       "    </tr>\n",
       "    <tr>\n",
       "      <th>2</th>\n",
       "      <td>December</td>\n",
       "      <td>204</td>\n",
       "    </tr>\n",
       "    <tr>\n",
       "      <th>3</th>\n",
       "      <td>January</td>\n",
       "      <td>168</td>\n",
       "    </tr>\n",
       "    <tr>\n",
       "      <th>4</th>\n",
       "      <td>February</td>\n",
       "      <td>200</td>\n",
       "    </tr>\n",
       "    <tr>\n",
       "      <th>5</th>\n",
       "      <td>March</td>\n",
       "      <td>126</td>\n",
       "    </tr>\n",
       "    <tr>\n",
       "      <th>6</th>\n",
       "      <td>April</td>\n",
       "      <td>64</td>\n",
       "    </tr>\n",
       "    <tr>\n",
       "      <th>7</th>\n",
       "      <td>May</td>\n",
       "      <td>26</td>\n",
       "    </tr>\n",
       "  </tbody>\n",
       "</table>\n",
       "</div>"
      ],
      "text/plain": [
       "      Tarih  Istek\n",
       "0   October    191\n",
       "1  November    174\n",
       "2  December    204\n",
       "3   January    168\n",
       "4  February    200\n",
       "5     March    126\n",
       "6     April     64\n",
       "7       May     26"
      ]
     },
     "execution_count": 2,
     "metadata": {},
     "output_type": "execute_result"
    },
    {
     "data": {
      "image/png": "[encoded data removed]",
      "text/plain": [
       "<Figure size 432x288 with 1 Axes>"
      ]
     },
     "metadata": {
      "needs_background": "light"
     },
     "output_type": "display_data"
    }
   ],
   "source": [
    "sql = \"SELECT MONTHNAME(RequestDate) Tarih, COUNT(id) Istek FROM Papers WHERE RequestDate > '2019-10-01' GROUP BY MONTH(RequestDate) ORDER BY RequestDate\"\n",
    "df = pd.read_sql_query(sql, engine)\n",
    "df.plot(kind='bar',x='Tarih',y='Istek')\n",
    "df"
   ]
  },
  {
   "cell_type": "markdown",
   "metadata": {},
   "source": [
    "### Kitap İstek Sayıları\n",
    "\n",
    "\n",
    "Aşağıdaki istatistikde kitap istek sayılarının hastalığın Türkiye'de görülmesi ile birlikte dramatik olarak nasıl düştüğünü göstermektedir: "
   ]
  },
  {
   "cell_type": "code",
   "execution_count": 3,
   "metadata": {},
   "outputs": [
    {
     "data": {
      "text/html": [
       "<div>\n",
       "<style scoped>\n",
       "    .dataframe tbody tr th:only-of-type {\n",
       "        vertical-align: middle;\n",
       "    }\n",
       "\n",
       "    .dataframe tbody tr th {\n",
       "        vertical-align: top;\n",
       "    }\n",
       "\n",
       "    .dataframe thead th {\n",
       "        text-align: right;\n",
       "    }\n",
       "</style>\n",
       "<table border=\"1\" class=\"dataframe\">\n",
       "  <thead>\n",
       "    <tr style=\"text-align: right;\">\n",
       "      <th></th>\n",
       "      <th>Tarih</th>\n",
       "      <th>Istek</th>\n",
       "    </tr>\n",
       "  </thead>\n",
       "  <tbody>\n",
       "    <tr>\n",
       "      <th>0</th>\n",
       "      <td>October</td>\n",
       "      <td>1652</td>\n",
       "    </tr>\n",
       "    <tr>\n",
       "      <th>1</th>\n",
       "      <td>November</td>\n",
       "      <td>1609</td>\n",
       "    </tr>\n",
       "    <tr>\n",
       "      <th>2</th>\n",
       "      <td>December</td>\n",
       "      <td>1633</td>\n",
       "    </tr>\n",
       "    <tr>\n",
       "      <th>3</th>\n",
       "      <td>January</td>\n",
       "      <td>1473</td>\n",
       "    </tr>\n",
       "    <tr>\n",
       "      <th>4</th>\n",
       "      <td>February</td>\n",
       "      <td>1758</td>\n",
       "    </tr>\n",
       "    <tr>\n",
       "      <th>5</th>\n",
       "      <td>March</td>\n",
       "      <td>1021</td>\n",
       "    </tr>\n",
       "    <tr>\n",
       "      <th>6</th>\n",
       "      <td>April</td>\n",
       "      <td>54</td>\n",
       "    </tr>\n",
       "    <tr>\n",
       "      <th>7</th>\n",
       "      <td>May</td>\n",
       "      <td>8</td>\n",
       "    </tr>\n",
       "  </tbody>\n",
       "</table>\n",
       "</div>"
      ],
      "text/plain": [
       "      Tarih  Istek\n",
       "0   October   1652\n",
       "1  November   1609\n",
       "2  December   1633\n",
       "3   January   1473\n",
       "4  February   1758\n",
       "5     March   1021\n",
       "6     April     54\n",
       "7       May      8"
      ]
     },
     "execution_count": 3,
     "metadata": {},
     "output_type": "execute_result"
    },
    {
     "data": {
      "image/png": "[encoded data removed]",
      "text/plain": [
       "<Figure size 432x288 with 1 Axes>"
      ]
     },
     "metadata": {
      "needs_background": "light"
     },
     "output_type": "display_data"
    }
   ],
   "source": [
    "sql = \"SELECT MONTHNAME(RequestDate) Tarih, COUNT(id) Istek FROM Books WHERE RequestDate > '2019-10-01' GROUP BY MONTH(RequestDate) ORDER BY RequestDate\"\n",
    "df = pd.read_sql_query(sql, engine)\n",
    "df.plot(kind='bar',x='Tarih',y='Istek')\n",
    "df"
   ]
  },
  {
   "cell_type": "markdown",
   "metadata": {},
   "source": [
    "### İmeceBS ile İstenen Yayınlar\n",
    "\n",
    "Aşağıda yer alan istatistikler ImeceBS'nin ilk hizmete girdiği günden itibaren bir haftalık dönemde istenen ve karşılanan isteklerin tür ve miktarlarını göstermektedir."
   ]
  },
  {
   "cell_type": "code",
   "execution_count": 4,
   "metadata": {},
   "outputs": [
    {
     "data": {
      "text/html": [
       "<div>\n",
       "<style scoped>\n",
       "    .dataframe tbody tr th:only-of-type {\n",
       "        vertical-align: middle;\n",
       "    }\n",
       "\n",
       "    .dataframe tbody tr th {\n",
       "        vertical-align: top;\n",
       "    }\n",
       "\n",
       "    .dataframe thead th {\n",
       "        text-align: right;\n",
       "    }\n",
       "</style>\n",
       "<table border=\"1\" class=\"dataframe\">\n",
       "  <thead>\n",
       "    <tr style=\"text-align: right;\">\n",
       "      <th></th>\n",
       "      <th>istekTürü</th>\n",
       "      <th>Miktar</th>\n",
       "    </tr>\n",
       "  </thead>\n",
       "  <tbody>\n",
       "    <tr>\n",
       "      <th>0</th>\n",
       "      <td>Makale</td>\n",
       "      <td>19</td>\n",
       "    </tr>\n",
       "    <tr>\n",
       "      <th>1</th>\n",
       "      <td>Kitap Bölümü</td>\n",
       "      <td>31</td>\n",
       "    </tr>\n",
       "  </tbody>\n",
       "</table>\n",
       "</div>"
      ],
      "text/plain": [
       "      istekTürü  Miktar\n",
       "0        Makale      19\n",
       "1  Kitap Bölümü      31"
      ]
     },
     "execution_count": 4,
     "metadata": {},
     "output_type": "execute_result"
    }
   ],
   "source": [
    "sql = \"SELECT CASE R.reqType WHEN 1 THEN 'Makale' WHEN 2 THEN 'Kitap Bölümü' WHEN 3 THEN 'Tez' END AS 'istekTürü', COUNT(R.id) AS Miktar FROM ImeceBS R GROUP BY reqType\"\n",
    "df = pd.read_sql_query(sql, engine)\n",
    "df"
   ]
  },
  {
   "cell_type": "markdown",
   "metadata": {},
   "source": [
    "### İstenen Yayınlar"
   ]
  },
  {
   "cell_type": "code",
   "execution_count": 5,
   "metadata": {
    "scrolled": true
   },
   "outputs": [
    {
     "data": {
      "text/plain": [
       "<matplotlib.axes._subplots.AxesSubplot at 0x7f1e9c427b10>"
      ]
     },
     "execution_count": 5,
     "metadata": {},
     "output_type": "execute_result"
    },
    {
     "data": {
      "image/png": "[encoded data removed]",
      "text/plain": [
       "<Figure size 432x288 with 1 Axes>"
      ]
     },
     "metadata": {
      "needs_background": "light"
     },
     "output_type": "display_data"
    }
   ],
   "source": [
    "sql2 = \"SELECT DATE(RequestDate) AS Date, COUNT(id) AS Istenen FROM ImeceBS GROUP BY DATE(RequestDate) ORDER BY RequestDate\"\n",
    "df2 = pd.read_sql_query(sql2, engine)\n",
    "df2.plot(kind='bar',x='Date',y='Istenen')"
   ]
  },
  {
   "cell_type": "markdown",
   "metadata": {},
   "source": [
    "### Karşılanan Yayınlar"
   ]
  },
  {
   "cell_type": "code",
   "execution_count": 6,
   "metadata": {},
   "outputs": [
    {
     "data": {
      "text/plain": [
       "<matplotlib.axes._subplots.AxesSubplot at 0x7f1e71138410>"
      ]
     },
     "execution_count": 6,
     "metadata": {},
     "output_type": "execute_result"
    },
    {
     "data": {
      "image/png": "[encoded data removed]",
      "text/plain": [
       "<Figure size 432x288 with 1 Axes>"
      ]
     },
     "metadata": {
      "needs_background": "light"
     },
     "output_type": "display_data"
    }
   ],
   "source": [
    "sql1 = \"SELECT DATE(procDateTime) AS Date, COUNT(id) AS Karsilanan FROM ImeceBS WHERE LenderLib>0 GROUP BY DAY(procDateTime) ORDER BY procDateTime\"\n",
    "df1 = pd.read_sql_query(sql1, engine)\n",
    "\n",
    "df1.plot(kind='bar',x='Date',y='Karsilanan')"
   ]
  },
  {
   "cell_type": "markdown",
   "metadata": {},
   "source": [
    "## İstenen ve Karşılanan Yayınların Tek Grafik Üzerinde Gösterimi:"
   ]
  },
  {
   "cell_type": "code",
   "execution_count": 7,
   "metadata": {},
   "outputs": [
    {
     "data": {
      "text/plain": [
       "<matplotlib.axes._subplots.AxesSubplot at 0x7f1e710b6690>"
      ]
     },
     "execution_count": 7,
     "metadata": {},
     "output_type": "execute_result"
    },
    {
     "data": {
      "image/png": "[encoded data removed]",
      "text/plain": [
       "<Figure size 432x288 with 1 Axes>"
      ]
     },
     "metadata": {
      "needs_background": "light"
     },
     "output_type": "display_data"
    }
   ],
   "source": [
    "ax = plt.gca()\n",
    "df2.plot(kind='bar',x='Date',y='Istenen', color='red', ax=ax, stacked=True)\n",
    "df1.plot(kind='bar',x='Date',y='Karsilanan',ax=ax, stacked=True)\n"
   ]
  },
  {
   "cell_type": "markdown",
   "metadata": {},
   "source": [
    "---\n",
    "\n",
    "### Sistemin Geliştirilmesi İçin Başka Neler Yapılabilir?\n",
    "\n",
    "- Cevaplanmayın istekler (askıda kalma süresi) belirli bir süre sonra silinsin mi?\n",
    "- İstekler ana sayfada gösterilsin mi?\n",
    "- Teşekkür gösterimi ana sayfada yapılsın mı?\n"
   ]
  },
  {
   "cell_type": "markdown",
   "metadata": {},
   "source": [
    "## Kaynak Paylaşımı Sorunları\n",
    "\n",
    "- Kargo sorunu\n",
    "- e-Kitapların paylaşacak yöntem yok.\n"
   ]
  },
  {
   "cell_type": "code",
   "execution_count": null,
   "metadata": {},
   "outputs": [],
   "source": []
  }
 ],
 "metadata": {
  "kernelspec": {
   "display_name": "Python 3",
   "language": "python",
   "name": "python3"
  },
  "language_info": {
   "codemirror_mode": {
    "name": "ipython",
    "version": 3
   },
   "file_extension": ".py",
   "mimetype": "text/x-python",
   "name": "python",
   "nbconvert_exporter": "python",
   "pygments_lexer": "ipython3",
   "version": "3.7.7"
  }
 },
 "nbformat": 4,
 "nbformat_minor": 4
}
